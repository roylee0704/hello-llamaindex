{
    "cells": [
        {
            "attachments": {},
            "cell_type": "markdown",
            "metadata": {},
            "source": [
                "# LlamaIndex Bottoms-Up Development - Evaluation Baseline\n",
                "\n",
                "LlamaIndex provides some basic evaluation of query engines! We can setup an evaluator that will measure both hallucinations, as well as if the query was actually answered!\n",
                "\n",
                "This is provided by two main evaluations:\n",
                "\n",
                "- `ResponseSourceEvaluator` - uses an LLM to decide if the response is similar enough to the sources -- a good measure for hallunication detection!\n",
                "- `QueryResponseEvaluator` - uses an LLM to decide if a response is similar enough to the original query -- a good measure for checking if the query was answered!\n",
                "\n",
                "You may have noticed that we are using an LLM for this task. That means we will want to pick a powerful LLM, like GPT-4 or Claude-2.\n",
                "\n",
                "Lastly, using these methods, we can also use the LLM to generate syntheic questions to evaluate with!"
            ]
        },
        {
            "attachments": {},
            "cell_type": "markdown",
            "metadata": {},
            "source": [
                "## Setup the Baseline Query Engine"
            ]
        },
        {
            "attachments": {},
            "cell_type": "markdown",
            "metadata": {},
            "source": [
                "### Loading our Docs"
            ]
        },
        {
            "cell_type": "code",
            "execution_count": 2,
            "metadata": {},
            "outputs": [],
            "source": [
                "from dotenv import load_dotenv\n",
                "import os\n",
                "import openai\n",
                "\n",
                "load_dotenv()\n",
                "\n",
                "openai.api_key = os.getenv(\"OPENAI_API_KEY\")\n",
                "os.environ[\"OPENAI_API_KEY\"] = os.getenv(\"OPENAI_API_KEY\")"
            ]
        },
        {
            "cell_type": "code",
            "execution_count": 3,
            "metadata": {},
            "outputs": [],
            "source": [
                "import os\n",
                "import sys\n",
                "sys.path.append(os.path.join(os.getcwd(), '..'))"
            ]
        },
        {
            "cell_type": "code",
            "execution_count": 4,
            "metadata": {},
            "outputs": [],
            "source": [
                "from llama_index.core import SimpleDirectoryReader\n",
                "\n",
                "from utils.markdown_docs_reader import MarkdownDocsReader\n",
                "\n",
                "def load_markdown_docs(filepath):\n",
                "    \"\"\"Load markdown docs from a directory, excluding all other file types.\"\"\"\n",
                "    loader = SimpleDirectoryReader(\n",
                "        input_dir=filepath,\n",
                "        required_exts=[\".md\"],\n",
                "        file_extractor={\".md\": MarkdownDocsReader()},\n",
                "        recursive=True\n",
                "    )\n",
                "\n",
                "    documents = loader.load_data()\n",
                "\n",
                "    # exclude some metadata from the LLM\n",
                "    for doc in documents:\n",
                "        doc.excluded_llm_metadata_keys = [\"File Name\", \"Content Type\", \"Header Path\"]\n",
                "\n",
                "    return documents"
            ]
        },
        {
            "cell_type": "code",
            "execution_count": 5,
            "metadata": {},
            "outputs": [],
            "source": [
                "# load our documents from each folder.\n",
                "# we keep them seperate for now, in order to create seperate indexes later\n",
                "getting_started_docs = load_markdown_docs(\"../docs/getting_started\")\n",
                "community_docs = load_markdown_docs(\"../docs/community\")\n",
                "data_docs = load_markdown_docs(\"../docs/core_modules/data_modules\")\n",
                "agent_docs = load_markdown_docs(\"../docs/core_modules/agent_modules\")\n",
                "model_docs = load_markdown_docs(\"../docs/core_modules/model_modules\")\n",
                "query_docs = load_markdown_docs(\"../docs/core_modules/query_modules\")\n",
                "supporting_docs = load_markdown_docs(\"../docs/core_modules/supporting_modules\")\n",
                "tutorials_docs = load_markdown_docs(\"../docs/end_to_end_tutorials\")\n",
                "contributing_docs = load_markdown_docs(\"../docs/development\")"
            ]
        },
        {
            "attachments": {},
            "cell_type": "markdown",
            "metadata": {},
            "source": [
                "### Create the indicies"
            ]
        },
        {
            "cell_type": "code",
            "execution_count": 6,
            "metadata": {},
            "outputs": [],
            "source": [
                "from llama_index.core import Settings\n",
                "from llama_index.llms.openai import OpenAI\n",
                "\n",
                "Settings.llm = OpenAI(model=\"gpt-3.5-turbo\", temperature=0)"
            ]
        },
        {
            "cell_type": "code",
            "execution_count": 7,
            "metadata": {},
            "outputs": [],
            "source": [
                "from llama_index.core import VectorStoreIndex, StorageContext, load_index_from_storage\n",
                "\n",
                "try:\n",
                "    getting_started_index = load_index_from_storage(StorageContext.from_defaults(persist_dir=\"./getting_started_index\"))\n",
                "    community_index = load_index_from_storage(StorageContext.from_defaults(persist_dir=\"./community_index\"))\n",
                "    data_index = load_index_from_storage(StorageContext.from_defaults(persist_dir=\"./data_index\"))\n",
                "    agent_index = load_index_from_storage(StorageContext.from_defaults(persist_dir=\"./agent_index\"))\n",
                "    model_index = load_index_from_storage(StorageContext.from_defaults(persist_dir=\"./model_index\"))\n",
                "    query_index = load_index_from_storage(StorageContext.from_defaults(persist_dir=\"./query_index\"))\n",
                "    supporting_index = load_index_from_storage(StorageContext.from_defaults(persist_dir=\"./supporting_index\"))\n",
                "    tutorials_index = load_index_from_storage(StorageContext.from_defaults(persist_dir=\"./tutorials_index\"))\n",
                "    contributing_index = load_index_from_storage(StorageContext.from_defaults(persist_dir=\"./contributing_index\"))\n",
                "except Exception as e:\n",
                "    print(e)\n",
                "    print(\"Creating new indices\")\n",
                "\n",
                "    getting_started_index = VectorStoreIndex.from_documents(getting_started_docs)\n",
                "    getting_started_index.storage_context.persist(persist_dir=\"./getting_started_index\")\n",
                "\n",
                "    community_index = VectorStoreIndex.from_documents(community_docs)\n",
                "    community_index.storage_context.persist(persist_dir=\"./community_index\")\n",
                "\n",
                "    data_index = VectorStoreIndex.from_documents(data_docs)\n",
                "    data_index.storage_context.persist(persist_dir=\"./data_index\")\n",
                "\n",
                "    agent_index = VectorStoreIndex.from_documents(agent_docs)\n",
                "    agent_index.storage_context.persist(persist_dir=\"./agent_index\")\n",
                "\n",
                "    model_index = VectorStoreIndex.from_documents(model_docs)\n",
                "    model_index.storage_context.persist(persist_dir=\"./model_index\")\n",
                "\n",
                "    query_index = VectorStoreIndex.from_documents(query_docs)\n",
                "    query_index.storage_context.persist(persist_dir=\"./query_index\")\n",
                "\n",
                "    supporting_index = VectorStoreIndex.from_documents(supporting_docs)\n",
                "    supporting_index.storage_context.persist(persist_dir=\"./supporting_index\")\n",
                "\n",
                "    tutorials_index = VectorStoreIndex.from_documents(tutorials_docs)\n",
                "    tutorials_index.storage_context.persist(persist_dir=\"./tutorials_index\")\n",
                "\n",
                "    contributing_index = VectorStoreIndex.from_documents(contributing_docs)\n",
                "    contributing_index.storage_context.persist(persist_dir=\"./contributing_index\")"
            ]
        },
        {
            "attachments": {},
            "cell_type": "markdown",
            "metadata": {},
            "source": [
                "### Create Query Engine Tools\n",
                "\n",
                "Since we have so many indicies, we can create a query engine tool for each and then use them in a single query engine!"
            ]
        },
        {
            "cell_type": "code",
            "execution_count": 8,
            "metadata": {},
            "outputs": [],
            "source": [
                "from llama_index.core.tools import QueryEngineTool\n",
                "\n",
                "# create a query engine tool for each folder\n",
                "getting_started_tool = QueryEngineTool.from_defaults(\n",
                "    query_engine=getting_started_index.as_query_engine(),\n",
                "    name=\"Getting Started\",\n",
                "    description=\"Useful for answering questions about installing and running llama index, as well as basic explanations of how llama index works.\"\n",
                ")\n",
                "\n",
                "community_tool = QueryEngineTool.from_defaults(\n",
                "    query_engine=community_index.as_query_engine(),\n",
                "    name=\"Community\",\n",
                "    description=\"Useful for answering questions about integrations and other apps built by the community.\"\n",
                ")\n",
                "\n",
                "data_tool = QueryEngineTool.from_defaults(\n",
                "    query_engine=data_index.as_query_engine(),\n",
                "    name=\"Data Modules\",\n",
                "    description=\"Useful for answering questions about data loaders, documents, nodes, and index structures.\"\n",
                ")\n",
                "\n",
                "agent_tool = QueryEngineTool.from_defaults(\n",
                "    query_engine=agent_index.as_query_engine(),\n",
                "    name=\"Agent Modules\",\n",
                "    description=\"Useful for answering questions about data agents, agent configurations, and tools.\"\n",
                ")\n",
                "\n",
                "model_tool = QueryEngineTool.from_defaults(\n",
                "    query_engine=model_index.as_query_engine(),\n",
                "    name=\"Model Modules\",\n",
                "    description=\"Useful for answering questions about using and configuring LLMs, embedding modles, and prompts.\"\n",
                ")\n",
                "\n",
                "query_tool = QueryEngineTool.from_defaults(\n",
                "    query_engine=query_index.as_query_engine(),\n",
                "    name=\"Query Modules\",\n",
                "    description=\"Useful for answering questions about query engines, query configurations, and using various parts of the query engine pipeline.\"\n",
                ")\n",
                "\n",
                "supporting_tool = QueryEngineTool.from_defaults(\n",
                "    query_engine=supporting_index.as_query_engine(),\n",
                "    name=\"Supporting Modules\",\n",
                "    description=\"Useful for answering questions about supporting modules, such as callbacks, service context, and avaluation.\"\n",
                ")\n",
                "\n",
                "tutorials_tool = QueryEngineTool.from_defaults(\n",
                "    query_engine=tutorials_index.as_query_engine(),\n",
                "    name=\"Tutorials\",\n",
                "    description=\"Useful for answering questions about end-to-end tutorials and giving examples of specific use-cases.\"\n",
                ")\n",
                "\n",
                "contributing_tool = QueryEngineTool.from_defaults(\n",
                "    query_engine=contributing_index.as_query_engine(),\n",
                "    name=\"Contributing\",\n",
                "    description=\"Useful for answering questions about contributing to llama index, including how to contribute to the codebase and how to build documentation.\"\n",
                ")"
            ]
        },
        {
            "attachments": {},
            "cell_type": "markdown",
            "metadata": {},
            "source": [
                "### Create Unified Query Engine"
            ]
        },
        {
            "cell_type": "code",
            "execution_count": 9,
            "metadata": {},
            "outputs": [],
            "source": [
                "# needed for notebooks\n",
                "import nest_asyncio\n",
                "nest_asyncio.apply()\n",
                "\n",
                "from llama_index.core.query_engine import SubQuestionQueryEngine\n",
                "from llama_index.core.response_synthesizers import get_response_synthesizer\n",
                "\n",
                "query_engine = SubQuestionQueryEngine.from_defaults(\n",
                "    query_engine_tools=[\n",
                "        getting_started_tool,\n",
                "        community_tool,\n",
                "        data_tool,\n",
                "        agent_tool,\n",
                "        model_tool,\n",
                "        query_tool,\n",
                "        supporting_tool,\n",
                "        tutorials_tool,\n",
                "        contributing_tool\n",
                "    ],\n",
                "    # enable this for streaming\n",
                "    # response_synthesizer=get_response_synthesizer(streaming=True),\n",
                "    verbose=False\n",
                ")"
            ]
        },
        {
            "attachments": {},
            "cell_type": "markdown",
            "metadata": {},
            "source": [
                "### Test the Query Engine!"
            ]
        },
        {
            "cell_type": "code",
            "execution_count": 9,
            "metadata": {},
            "outputs": [
                {
                    "name": "stdout",
                    "output_type": "stream",
                    "text": [
                        "To install llama index, you can clone the repository using Git by running `git clone https://github.com/jerryjliu/llama_index.git`. After cloning the repository, you can proceed with an editable install by running `pip install -e .`. Additionally, to install optional dependencies and dependencies used for development, you should run `pip install -r requirements.txt`.\n"
                    ]
                }
            ],
            "source": [
                "response = query_engine.query(\"How do I install llama index?\")\n",
                "print(str(response))"
            ]
        },
        {
            "attachments": {},
            "cell_type": "markdown",
            "metadata": {},
            "source": [
                "## Evaluate the Basline!\n",
                "\n",
                "Now that we have our baseline query engine created, we can create a basic evaluation pipeline!\n",
                "\n",
                "Our pipeline will:\n",
                "\n",
                "- Generate a small dataset of questions\n",
                "- Save/cache these questions (so we can properly compare performance later!)\n",
                "- Evaluate both response quality and hallucination\n",
                "\n",
                "To do this reliably, we need to use an LLM smarter than `gpt-3.5-turbo`, so we will setup `gpt-4` for the evaluation process!"
            ]
        },
        {
            "attachments": {},
            "cell_type": "markdown",
            "metadata": {},
            "source": [
                "### Generate the Dataset\n",
                "\n",
                "In order to make the question generation more effecient, we can remove small documents and combine all documents into a giant single docoument.\n",
                "\n",
                "I also modify the question generation prompt, to generate a single question for each chunk, along with extra context for what it is reading."
            ]
        },
        {
            "cell_type": "code",
            "execution_count": 10,
            "metadata": {},
            "outputs": [],
            "source": [
                "from llama_index.core import Document\n",
                "from llama_index.core import SimpleDirectoryReader\n",
                "\n",
                "documents = SimpleDirectoryReader(\"../docs\", recursive=True, required_exts=[\".md\"]).load_data()\n",
                "\n",
                "all_text = \"\"\n",
                "\n",
                "for doc in documents:\n",
                "    all_text += doc.text\n",
                "\n",
                "giant_document = Document(text=all_text)"
            ]
        },
        {
            "cell_type": "code",
            "execution_count": 13,
            "metadata": {},
            "outputs": [],
            "source": [
                "import os\n",
                "import random\n",
                "random.seed(42)\n",
                "\n",
                "from llama_index.core.prompts import Prompt\n",
                "from llama_index.llms.openai import OpenAI\n",
                "from llama_index.core.evaluation import DatasetGenerator\n",
                "from llama_index.core import Settings\n",
                "\n",
                "\n",
                "question_dataset = []\n",
                "if os.path.exists(\"question_dataset.txt\"):\n",
                "    with open(\"question_dataset.txt\", \"r\") as f:\n",
                "        for line in f:\n",
                "            question_dataset.append(line.strip())\n",
                "else:\n",
                "\n",
                "    # generate questions\n",
                "    with Settings.temporary_set(llm=OpenAI(model=\"gpt-4\", temperature=0)):\n",
                "        data_generator = DatasetGenerator.from_documents(\n",
                "            [giant_document],\n",
                "            text_question_template=Prompt(\n",
                "                \"A sample from the LlamaIndex documentation is below.\\n\"\n",
                "                \"---------------------\\n\"\n",
                "                \"{context_str}\\n\"\n",
                "                \"---------------------\\n\"\n",
                "                \"Using the documentation sample, carefully follow the instructions below:\\n\"\n",
                "                \"{query_str}\"\n",
                "            ),\n",
                "            question_gen_query=(\n",
                "                \"You are an evaluator for a search pipeline. Your task is to write a single question \"\n",
                "                \"using the provided documentation sample above to test the search pipeline. The question should \"\n",
                "                \"reference specific names, functions, and terms. Restrict the question to the \"\n",
                "                \"context information provided.\\n\"\n",
                "                \"Question: \"\n",
                "            ),\n",
                "        )\n",
                "\n",
                "    generated_questions = data_generator.generate_questions_from_nodes()\n",
                "\n",
                "    # randomly pick 40 questions from each dataset\n",
                "    generated_questions = random.sample(generated_questions, 40)\n",
                "    question_dataset.extend(generated_questions)\n",
                "\n",
                "    print(f\"Generated {len(question_dataset)} questions.\")\n",
                "\n",
                "    # save the questions!\n",
                "    with open(\"question_dataset.txt\", \"w\") as f:\n",
                "        for question in question_dataset:\n",
                "            f.write(f\"{question.strip()}\\n\")"
            ]
        },
        {
            "cell_type": "code",
            "execution_count": 14,
            "metadata": {},
            "outputs": [
                {
                    "name": "stdout",
                    "output_type": "stream",
                    "text": [
                        "['What is the function used to specify the metadata visible to the embedding model and how can it be customized?', 'How can I convert tools to LangChain tools using the provided documentation sample?', 'What is the purpose of the \"router query engine\" in the LlamaIndex framework?', 'What are the different vector stores supported by LlamaIndex for use as the storage backend for `VectorStoreIndex`?', 'What is the default number of LLM calls required for the ListIndex?']\n"
                    ]
                }
            ],
            "source": [
                "print(random.sample(question_dataset, 5))"
            ]
        },
        {
            "attachments": {},
            "cell_type": "markdown",
            "metadata": {},
            "source": [
                "### Evaluate with the Dataset\n",
                "\n",
                "Now that we have our dataset, let's measure performance!"
            ]
        },
        {
            "attachments": {},
            "cell_type": "markdown",
            "metadata": {},
            "source": [
                "#### Evaluating Response for Hallucination"
            ]
        },
        {
            "cell_type": "code",
            "execution_count": 59,
            "metadata": {},
            "outputs": [],
            "source": [
                "import time\n",
                "import asyncio\n",
                "import nest_asyncio\n",
                "nest_asyncio.apply()\n",
                "from llama_index.core import Response\n",
                "\n",
                "def evaluate_query_engine(evaluator, query_engine, questions):\n",
                "    async def run_query(query_engine, q):\n",
                "        try:\n",
                "            return await query_engine.aquery(q)\n",
                "        except:\n",
                "            return Response(response=\"Error, query failed.\")\n",
                "\n",
                "    total_correct = 0\n",
                "    all_results = []\n",
                "    for batch_size in range(0, len(questions), 5):\n",
                "        batch_qs = questions[batch_size:batch_size+5]\n",
                "\n",
                "        tasks = [run_query(query_engine, q) for q in batch_qs]\n",
                "        responses = asyncio.run(asyncio.gather(*tasks))\n",
                "        print(f\"finished batch {(batch_size // 5) + 1} out of {len(questions) // 5}\")\n",
                "\n",
                "        for response in responses:\n",
                "            eval_result = 1 if \"YES\" in evaluator.evaluate_response(response=response) else 0\n",
                "            total_correct += eval_result\n",
                "            all_results.append(eval_result)\n",
                "\n",
                "        # helps avoid rate limits\n",
                "        time.sleep(1)\n",
                "\n",
                "    return total_correct, all_results"
            ]
        },
        {
            "cell_type": "code",
            "execution_count": null,
            "metadata": {},
            "outputs": [],
            "source": []
        },
        {
            "cell_type": "code",
            "execution_count": 60,
            "metadata": {},
            "outputs": [
                {
                    "name": "stdout",
                    "output_type": "stream",
                    "text": [
                        "finished batch 1 out of 8\n",
                        "finished batch 2 out of 8\n",
                        "finished batch 3 out of 8\n",
                        "finished batch 4 out of 8\n",
                        "finished batch 5 out of 8\n",
                        "finished batch 6 out of 8\n",
                        "finished batch 7 out of 8\n",
                        "finished batch 8 out of 8\n",
                        "Hallucination? Scored 0 out of 40 questions correctly.\n"
                    ]
                }
            ],
            "source": [
                "from llama_index.core.evaluation import FaithfulnessEvaluator\n",
                "\n",
                "gpt4 = OpenAI(temperature=0, model=\"gpt-4\")\n",
                "evaluator = FaithfulnessEvaluator(llm=gpt4)\n",
                "\n",
                "total_correct, all_results = evaluate_query_engine(evaluator, query_engine, question_dataset)\n",
                "\n",
                "print(f\"Hallucination? Scored {total_correct} out of {len(question_dataset)} questions correctly.\")"
            ]
        },
        {
            "attachments": {},
            "cell_type": "markdown",
            "metadata": {},
            "source": [
                "#### Investigating Hallucinations"
            ]
        },
        {
            "cell_type": "code",
            "execution_count": 43,
            "metadata": {},
            "outputs": [
                {
                    "name": "stdout",
                    "output_type": "stream",
                    "text": [
                        "['What are the possible settings for the LLM and how can the user set the prompt for term extraction?'\n",
                        " 'How can I convert tools to LangChain tools using the provided documentation sample?'\n",
                        " 'What is the purpose of the `GuidancePydanticProgram` class in the LlamaIndex documentation?'\n",
                        " 'What is the purpose of the SubQuestionQueryEngine class in LlamaIndex?'\n",
                        " 'What is the purpose of the `query_wrapper_prompt` in the `HuggingFaceLLM` class?'\n",
                        " 'What embedding model does LlamaIndex use by default?'\n",
                        " 'What are the available options for the storage backend of the index store in LlamaIndex?'\n",
                        " 'What is the function used to specify the metadata visible to the embedding model and how can it be customized?'\n",
                        " 'What are the node postprocessors available in the LlamaIndex documentation?'\n",
                        " 'What is the purpose of the LoadAndSearchToolSpec in the LlamaIndex documentation?'\n",
                        " 'What is the purpose of the DEFAULT_REFINE_PROMPT_SEL_LC in the LlamaIndex documentation?'\n",
                        " \"What is the purpose of the `CollectionQueryConsumer` class in the Delphic application's WebSocket handling?\"\n",
                        " 'What is the purpose of the `ReActAgent` and how can it be initialized with other agents as tools?'\n",
                        " 'How can I create a Django superuser using the Delphic application?'\n",
                        " 'What is the default number of LLM calls required for the ListIndex?'\n",
                        " 'What are the different vector stores supported by LlamaIndex for use as the storage backend for `VectorStoreIndex`?'\n",
                        " 'What are the key building blocks in LlamaIndex for composing a Retrieval Augmented Generation (RAG) pipeline?'\n",
                        " 'What is the purpose of the \"router query engine\" in the LlamaIndex framework?'\n",
                        " 'What is the purpose of the `VectorStoreIndex` class in the LlamaIndex documentation sample?'\n",
                        " 'What storage backends are supported by LlamaIndex for persisting data?'\n",
                        " 'What is the purpose of the `fetchDocuments` function in the `fetchDocuments.tsx` file in the React frontend?'\n",
                        " 'What is the purpose of the `DecomposeQueryTransform` module in the LlamaIndex documentation?'\n",
                        " 'What is the purpose of the `RefinePrompt` class in the LlamaIndex documentation?'\n",
                        " \"What is the function used to retrieve the collections for the logged-in user in the Delphic project's frontend?\"\n",
                        " 'What is the default value for the `include_metadata` parameter in the `SimpleNodeParser` class?'\n",
                        " 'What is the purpose of the `RouterQueryEngine` in the LlamaIndex documentation?'\n",
                        " 'What is the purpose of the TokenCountingHandler callback in the LlamaIndex library?'\n",
                        " 'What is the purpose of the `RelatedNodeInfo` class in the LlamaIndex documentation?'\n",
                        " 'What is the purpose of the ResponseEvaluator class in the LlamaIndex library?'\n",
                        " 'What is the purpose of the `SimilarityPostprocessor` in the query engine configuration?'\n",
                        " 'What is the purpose of the Algovera tool built on top of LlamaIndex?'\n",
                        " 'How can you delete a document from the index data structures and specify whether to delete it from the document store as well?'\n",
                        " 'How can we extract terms from documents using LlamaIndex and insert them into the index?'\n",
                        " 'What is the purpose of the HyDE query transform in the LlamaIndex?'\n",
                        " 'What are the three primary sections within the layout of the ChatView component?'\n",
                        " 'What is the default value for the child_branch_factor parameter when configuring the ComposableGraphQueryEngine?'\n",
                        " 'What is the purpose of the `insert_terms` function in the LlamaIndex app?'\n",
                        " 'What is the purpose of the `load_collection_model` function in the LlamaIndex documentation?'\n",
                        " 'What is the purpose of the SQLTableNodeMapping object in the LlamaIndex documentation sample?'\n",
                        " 'What is the purpose of the `RouterQueryEngine` in LlamaIndex and how can it be used in the search pipeline?']\n"
                    ]
                }
            ],
            "source": [
                "import numpy as np\n",
                "\n",
                "hallucinated_questions = np.array(question_dataset)[np.array(all_results) == 0]\n",
                "print(hallucinated_questions)"
            ]
        },
        {
            "cell_type": "code",
            "execution_count": 44,
            "metadata": {},
            "outputs": [
                {
                    "name": "stdout",
                    "output_type": "stream",
                    "text": [
                        "The purpose of the `GuidancePydanticProgram` class in the LlamaIndex documentation is likely related to defining and managing guidance-related data structures or functionalities within the LlamaIndex system.\n",
                        "-----------------\n",
                        "> Source (Doc id: 9c4ee42c-6781-4d9d-9617-dc8b293910f4): Sub question: What is the purpose of the `GuidancePydanticProgram` class in the LlamaIndex documentation?\n",
                        "Response: The `GuidancePydanticProgram` class in the LlamaIndex documentation is likely used for defining and handling guidance-related data structures or functionalities within the LlamaIndex system.\n",
                        "\n",
                        "> Source (Doc id: 39fc435f-2ac7-4fe2-8396-6323230e74f6): query_wrapper_prompt = SimpleInputPrompt(\"<|USER|>{query_str}<|ASSISTANT|>\")\n",
                        "\n",
                        "import torch\n",
                        "from llama_index.llms import HuggingFaceLLM\n",
                        "llm = HuggingFaceLLM(\n",
                        "    context_window=4096, \n",
                        "    max_new_tokens=256,\n",
                        "    generate_kwargs={\"temperature\": 0.7, \"do_sample\": False},\n",
                        "    system_prompt=system_prompt,\n",
                        "    query_wrapper_prompt=query_wrapper_prompt,\n",
                        "    tokenizer_name=\"StabilityAI/stablelm-tuned-alpha-3b\",\n",
                        "    model_name=\"StabilityAI/stablelm-tuned-alpha-3b\",\n",
                        "    device_map=\"auto\",\n",
                        "    stopping_ids=[50278, 50279, 50277, 1, 0],\n",
                        "    tokenizer_kwargs={\"max_length\": 4096},\n",
                        "    # uncomment this if using CUDA to reduce memory usage\n",
                        "    # model_kwargs={\"torch_dtype\": torch.float16}\n",
                        ")\n",
                        "service_context = ServiceContext.from_defaults(\n",
                        "    chunk_size=1024, \n",
                        "    llm=llm,\n",
                        ")\n",
                        "\n",
                        "> Source (Doc id: 8c32bf38-af47-432a-97b7-40b49f3dfabc): A full API reference can be found here.\n",
                        "\n",
                        "Several example notebooks are also listed below:\n",
                        "\n",
                        "- StableLM\n",
                        "- Camel\n"
                    ]
                }
            ],
            "source": [
                "response = query_engine.query('What is the purpose of the `GuidancePydanticProgram` class in the LlamaIndex documentation?')\n",
                "print(str(response))\n",
                "print(\"-----------------\")\n",
                "print(response.get_formatted_sources(length=1000))"
            ]
        },
        {
            "cell_type": "code",
            "execution_count": 45,
            "metadata": {},
            "outputs": [
                {
                    "name": "stdout",
                    "output_type": "stream",
                    "text": [
                        "The purpose of the `RouterQueryEngine` in LlamaIndex is to handle query transformations over index structures. It can be used in the search pipeline by directing natural language queries to different query engines based on predefined rules or conditions, allowing for more flexibility and customization in handling various types of queries within the search pipeline.\n",
                        "-----------------\n",
                        "> Source (Doc id: d7982f00-177a-4a8f-b8c4-51dd6e675ae4): Sub question: What is the purpose of the `RouterQueryEngine` in LlamaIndex?\n",
                        "Response: The purpose of the `RouterQueryEngine` in LlamaIndex is to handle query transformations over index structures.\n",
                        "\n",
                        "> Source (Doc id: f48b7a23-e17c-4bdc-bb5d-2163bfb03cf7): Sub question: How can the `RouterQueryEngine` be used in the search pipeline?\n",
                        "Response: The `RouterQueryEngine` can be used in the search pipeline by taking in a natural language query and directing it to different query engines based on predefined rules or conditions. This allows for more flexibility and customization in handling different types of queries within the search pipeline.\n",
                        "\n",
                        "> Source (Doc id: 28bbb4e4-73ab-4bdf-91c8-2617327151c1): LlamaIndex allows you to perform *query transformations* over your index structures.\n",
                        "Query transformations are modules that will convert a query into another query. They can be **single-step**, as in the transformation is run once before the query is executed against an index. \n",
                        "\n",
                        "They can also be **multi-step**, as in: \n",
                        "1. The query is transformed, executed against an index, \n",
                        "2. The response is retrieved.\n",
                        "3. Subsequent queries are transformed/executed in a sequential fashion.\n",
                        "\n",
                        "We list some of our query transformations in more detail below.\n",
                        "\n",
                        "> Source (Doc id: 2753a922-5570-47b1-9f74-fe5004c64edb): LlamaIndex supports streaming the response as it's being generated.\n",
                        "This allows you to start printing or processing the beginning of the response before the full response is finished.\n",
                        "This can drastically reduce the perceived latency of queries.\n",
                        "\n",
                        "> Source (Doc id: 8019295b-315c-48e7-8594-f501b3fad7f3): Query engine is a generic interface that allows you to ask question over your data.\n",
                        "\n",
                        "A query engine takes in a natural language query, and returns a rich response.\n",
                        "It is most often (but not always) built on one or many Indices via Retrievers.\n",
                        "You can compose multiple query engines to achieve more advanced capability.\n",
                        "\n",
                        "> Source (Doc id: 98c7d431-c89c-4e5e-a058-05576b757c9d): Query transformations have multiple use cases:\n",
                        "- Transforming an initial query into a form that can be more easily embedded (e.g. HyDE)\n",
                        "- Transforming an initial query into a subquestion that can be more easily answered from the data (single-step query decomposition)\n",
                        "- Breaking an initial query into multiple subquestions that can be more easily answered on their own. (multi-step query decomposition)\n"
                    ]
                }
            ],
            "source": [
                "response = query_engine.query('What is the purpose of the `RouterQueryEngine` in LlamaIndex and how can it be used in the search pipeline?')\n",
                "print(str(response))\n",
                "print(\"-----------------\")\n",
                "print(response.get_formatted_sources(length=1000))"
            ]
        },
        {
            "attachments": {},
            "cell_type": "markdown",
            "metadata": {},
            "source": [
                "#### Evaluating Response for Answer Quality"
            ]
        },
        {
            "cell_type": "code",
            "execution_count": 47,
            "metadata": {},
            "outputs": [],
            "source": [
                "import time\n",
                "import asyncio\n",
                "import nest_asyncio\n",
                "nest_asyncio.apply()\n",
                "from llama_index.core import Response\n",
                "\n",
                "def evaluate_query_engine(evaluator, query_engine, questions):\n",
                "    async def run_query(query_engine, q):\n",
                "        try:\n",
                "            return await query_engine.aquery(q)\n",
                "        except:\n",
                "            return Response(response=\"Error, query failed.\")\n",
                "\n",
                "    total_correct = 0\n",
                "    all_results = []\n",
                "    for batch_size in range(0, len(questions), 5):\n",
                "        batch_qs = questions[batch_size:batch_size+5]\n",
                "\n",
                "        tasks = [run_query(query_engine, q) for q in batch_qs]\n",
                "        responses = asyncio.run(asyncio.gather(*tasks))\n",
                "        print(f\"finished batch {(batch_size // 5) + 1} out of {len(questions) // 5}\")\n",
                "\n",
                "        for question, response in zip(batch_qs, responses):\n",
                "            eval_result = 1 if \"YES\" in evaluator.evaluate(question, response) else 0\n",
                "            total_correct += eval_result\n",
                "            all_results.append(eval_result)\n",
                "\n",
                "        # helps avoid rate limits\n",
                "        time.sleep(1)\n",
                "\n",
                "    return total_correct, all_results"
            ]
        },
        {
            "cell_type": "code",
            "execution_count": 55,
            "metadata": {},
            "outputs": [
                {
                    "name": "stdout",
                    "output_type": "stream",
                    "text": [
                        "finished batch 1 out of 8\n",
                        "finished batch 2 out of 8\n",
                        "finished batch 3 out of 8\n",
                        "finished batch 4 out of 8\n",
                        "finished batch 5 out of 8\n",
                        "finished batch 6 out of 8\n",
                        "finished batch 7 out of 8\n",
                        "finished batch 8 out of 8\n",
                        "Response satisfies the query? Scored 0 out of 40 questions correctly.\n"
                    ]
                }
            ],
            "source": [
                "from llama_index.core.evaluation import QueryResponseEvaluator\n",
                "\n",
                "gpt4_llm = OpenAI(model=\"gpt-4\", temperature=0)\n",
                "evaluator = QueryResponseEvaluator(llm=gpt4_llm)\n",
                "\n",
                "total_correct, all_results = evaluate_query_engine(evaluator, query_engine, question_dataset)\n",
                "\n",
                "print(f\"Response satisfies the query? Scored {total_correct} out of {len(question_dataset)} questions correctly.\")"
            ]
        },
        {
            "attachments": {},
            "cell_type": "markdown",
            "metadata": {},
            "source": [
                "#### Investigating Incorrect Answers"
            ]
        },
        {
            "cell_type": "code",
            "execution_count": 56,
            "metadata": {},
            "outputs": [
                {
                    "name": "stdout",
                    "output_type": "stream",
                    "text": [
                        "['What are the possible settings for the LLM and how can the user set the prompt for term extraction?'\n",
                        " 'How can I convert tools to LangChain tools using the provided documentation sample?'\n",
                        " 'What is the purpose of the `GuidancePydanticProgram` class in the LlamaIndex documentation?'\n",
                        " 'What is the purpose of the SubQuestionQueryEngine class in LlamaIndex?'\n",
                        " 'What is the purpose of the `query_wrapper_prompt` in the `HuggingFaceLLM` class?'\n",
                        " 'What embedding model does LlamaIndex use by default?'\n",
                        " 'What are the available options for the storage backend of the index store in LlamaIndex?'\n",
                        " 'What is the function used to specify the metadata visible to the embedding model and how can it be customized?'\n",
                        " 'What are the node postprocessors available in the LlamaIndex documentation?'\n",
                        " 'What is the purpose of the LoadAndSearchToolSpec in the LlamaIndex documentation?'\n",
                        " 'What is the purpose of the DEFAULT_REFINE_PROMPT_SEL_LC in the LlamaIndex documentation?'\n",
                        " \"What is the purpose of the `CollectionQueryConsumer` class in the Delphic application's WebSocket handling?\"\n",
                        " 'What is the purpose of the `ReActAgent` and how can it be initialized with other agents as tools?'\n",
                        " 'How can I create a Django superuser using the Delphic application?'\n",
                        " 'What is the default number of LLM calls required for the ListIndex?'\n",
                        " 'What are the different vector stores supported by LlamaIndex for use as the storage backend for `VectorStoreIndex`?'\n",
                        " 'What are the key building blocks in LlamaIndex for composing a Retrieval Augmented Generation (RAG) pipeline?'\n",
                        " 'What is the purpose of the \"router query engine\" in the LlamaIndex framework?'\n",
                        " 'What is the purpose of the `VectorStoreIndex` class in the LlamaIndex documentation sample?'\n",
                        " 'What storage backends are supported by LlamaIndex for persisting data?'\n",
                        " 'What is the purpose of the `fetchDocuments` function in the `fetchDocuments.tsx` file in the React frontend?'\n",
                        " 'What is the purpose of the `DecomposeQueryTransform` module in the LlamaIndex documentation?'\n",
                        " 'What is the purpose of the `RefinePrompt` class in the LlamaIndex documentation?'\n",
                        " \"What is the function used to retrieve the collections for the logged-in user in the Delphic project's frontend?\"\n",
                        " 'What is the default value for the `include_metadata` parameter in the `SimpleNodeParser` class?'\n",
                        " 'What is the purpose of the `RouterQueryEngine` in the LlamaIndex documentation?'\n",
                        " 'What is the purpose of the TokenCountingHandler callback in the LlamaIndex library?'\n",
                        " 'What is the purpose of the `RelatedNodeInfo` class in the LlamaIndex documentation?'\n",
                        " 'What is the purpose of the ResponseEvaluator class in the LlamaIndex library?'\n",
                        " 'What is the purpose of the `SimilarityPostprocessor` in the query engine configuration?'\n",
                        " 'What is the purpose of the Algovera tool built on top of LlamaIndex?'\n",
                        " 'How can you delete a document from the index data structures and specify whether to delete it from the document store as well?'\n",
                        " 'How can we extract terms from documents using LlamaIndex and insert them into the index?'\n",
                        " 'What is the purpose of the HyDE query transform in the LlamaIndex?'\n",
                        " 'What are the three primary sections within the layout of the ChatView component?'\n",
                        " 'What is the default value for the child_branch_factor parameter when configuring the ComposableGraphQueryEngine?'\n",
                        " 'What is the purpose of the `insert_terms` function in the LlamaIndex app?'\n",
                        " 'What is the purpose of the `load_collection_model` function in the LlamaIndex documentation?'\n",
                        " 'What is the purpose of the SQLTableNodeMapping object in the LlamaIndex documentation sample?'\n",
                        " 'What is the purpose of the `RouterQueryEngine` in LlamaIndex and how can it be used in the search pipeline?']\n"
                    ]
                }
            ],
            "source": [
                "import numpy as np\n",
                "\n",
                "unanswered_queries = np.array(question_dataset)[np.array(all_results) == 0]\n",
                "print(unanswered_queries)"
            ]
        },
        {
            "cell_type": "code",
            "execution_count": 57,
            "metadata": {},
            "outputs": [
                {
                    "name": "stdout",
                    "output_type": "stream",
                    "text": [
                        "The purpose of the ReActAgent is to be initialized from a set of Tools. It can be initialized with other agents as tools by instantiating QueryEngineTool objects with the desired agents (e.g., sql_agent, gmail_agent) and their corresponding metadata, and then passing these QueryEngineTool objects as a list to the ReActAgent's from_tools method along with any other required parameters.\n",
                        "-----------------\n",
                        "> Source (Doc id: 614e60de-cbd6-4d30-bbb6-4a78c5be0788): Sub question: What is the purpose of the ReActAgent?\n",
                        "Response: The purpose of the ReActAgent is to be initialized from a set of Tools.\n",
                        "\n",
                        "> Source (Doc id: a22f8b29-726c-4cb1-87d7-63c6136276f0): Sub question: How can the ReActAgent be initialized with other agents as tools?\n",
                        "Response: The ReActAgent can be initialized with other agents as tools by instantiating QueryEngineTool objects with the desired agents (e.g., sql_agent, gmail_agent) and th...\n",
                        "\n",
                        "> Source (Doc id: d6f43b48-38b2-4150-9fa3-4568b0c1a031): An agent is initialized from a set of Tools. Here's an example of instantiating a ReAct\n",
                        "agent from a set of Tools.\n",
                        "\n",
                        "> Source (Doc id: 35d94500-9311-4f92-9300-5e366efabd3f): ```{toctree}\n",
                        "---\n",
                        "maxdepth: 1\n",
                        "---\n",
                        "/examples/agent/react_agent_with_query_engine.ipynb\n",
                        "```\n",
                        "\n",
                        "> Source (Doc id: d6f43b48-38b2-4150-9fa3-4568b0c1a031): An agent is initialized from a set of Tools. Here's an example of instantiating a ReAct\n",
                        "agent from a set of Tools.\n",
                        "\n",
                        "> Source (Doc id: f25d1805-5021-49ff-b7b3-b73fbb552d37): from llama_index.tools import QueryEngineTool\n",
                        "\n",
                        "query_engine_tools = [\n",
                        "    QueryEngineTool(\n",
                        "        query_engine=sql_agent,\n",
                        "        metadata=ToolMetadata(\n",
                        "            name=\"sql_agent\",\n",
                        "            description=\"Agent that can execute SQL queries.\"\n",
                        "       ...\n"
                    ]
                }
            ],
            "source": [
                "response = query_engine.query('What is the purpose of the `ReActAgent` and how can it be initialized with other agents as tools?')\n",
                "print(str(response))\n",
                "print(\"-----------------\")\n",
                "print(response.get_formatted_sources(length=256))"
            ]
        },
        {
            "cell_type": "code",
            "execution_count": 58,
            "metadata": {},
            "outputs": [
                {
                    "name": "stdout",
                    "output_type": "stream",
                    "text": [
                        "The purpose of the LoadAndSearchToolSpec in the LlamaIndex documentation is to provide a high-level interface for ingesting, indexing, and querying external data. It supports various ways of querying a list index, such as embedding-based queries to fetch the top-k neighbors and keyword filtering. Additionally, LlamaIndex allows customization through swappable storage components for document stores, index stores, and vector stores, which rely on a common Key-Value store abstraction.\n",
                        "-----------------\n",
                        "> Source (Doc id: 9afb81e7-96e0-40d8-9217-6858ceb2df88): Sub question: What is the purpose of the LoadAndSearchToolSpec in the LlamaIndex documentation?\n",
                        "Response: The purpose of the LoadAndSearchToolSpec in the LlamaIndex documentation is to provide a high-level interface for ingesting, indexing, and querying...\n",
                        "\n",
                        "> Source (Doc id: 0a8c8d8b-868c-418b-9e86-4dacf84d80d6): Sub question: How does LoadAndSearchToolSpec interact with data loaders and index structures?\n",
                        "Response: LoadAndSearchToolSpec interacts with data loaders and index structures by utilizing specific convenience functions to load specific indices from the ...\n",
                        "\n",
                        "> Source (Doc id: 3bb3ca26-12cb-44e6-92c2-da8504ed5076): Sub question: Can LoadAndSearchToolSpec be customized or configured in any way?\n",
                        "Response: LoadAndSearchToolSpec can be customized or configured by instantiating different document stores, index stores, and vector stores.\n",
                        "\n",
                        "> Source (Doc id: b9d3b463-13ba-466b-98de-d6b8f9295e80): During query time, if no other query parameters are specified, LlamaIndex simply loads all Nodes in the list into\n",
                        "our Response Synthesis module.\n",
                        "\n",
                        "!\n",
                        "\n",
                        "The list index does offer numerous ways of querying a list index, from an embedding-based query which \n",
                        "w...\n",
                        "\n",
                        "> Source (Doc id: d6da87b2-0e93-4553-94b3-950f945cab1d): LlamaIndex provides a high-level interface for ingesting, indexing, and querying your external data.\n",
                        "\n",
                        "Under the hood, LlamaIndex also supports swappable **storage components** that allows you to customize:\n",
                        "\n",
                        "- **Document stores**: where ingested document...\n",
                        "\n",
                        "> Source (Doc id: 38b583ff-14eb-407c-bd01-9bd04ea761f9): We can then load specific indices from the `StorageContext` through some convenience functions below.\n",
                        "\n",
                        "> Source (Doc id: 6f76dfe3-61b3-4f4e-80fc-07f6efc3a93f): sc = StorageContext.from_defaults(persist_dir='llama-index/storage_demo', fs=s3)\n",
                        "index2 = load_index_from_storage(sc, 'vector_index')\n",
                        "\n",
                        "> Source (Doc id: e4969d52-ee70-492f-985d-573f639688b4): You can customize the underlying storage with a one-line change to instantiate different document stores, index stores, and vector stores.\n",
                        "See Document Stores, Vector Stores, Index Stores guides for more details.\n",
                        "\n",
                        "For saving and loading a graph/composab...\n",
                        "\n",
                        "> Source (Doc id: 6bf8ed70-3750-4227-a907-84c8116133d1): Under the hood, LlamaIndex also supports a swappable **storage layer** that allows you to customize where ingested documents (i.e., `Node` objects), embedding vectors, and index metadata are stored.\n",
                        "\n",
                        "\n",
                        "!\n"
                    ]
                }
            ],
            "source": [
                "response = query_engine.query('What is the purpose of the LoadAndSearchToolSpec in the LlamaIndex documentation?')\n",
                "print(str(response))\n",
                "print(\"-----------------\")\n",
                "print(response.get_formatted_sources(length=256))"
            ]
        },
        {
            "attachments": {},
            "cell_type": "markdown",
            "metadata": {},
            "source": [
                "# Conclusion\n",
                "\n",
                "In this notebook, we covered several key topics!\n",
                "\n",
                "- setting up a sub-question query engine\n",
                "- generating a dataset of evaluation questions\n",
                "- evaluating responses for hallucination\n",
                "- evaluating responses for answer quality"
            ]
        }
    ],
    "metadata": {
        "kernelspec": {
            "display_name": "venv",
            "language": "python",
            "name": "python3"
        },
        "language_info": {
            "codemirror_mode": {
                "name": "ipython",
                "version": 3
            },
            "file_extension": ".py",
            "mimetype": "text/x-python",
            "name": "python",
            "nbconvert_exporter": "python",
            "pygments_lexer": "ipython3",
            "version": "3.11.10"
        },
        "orig_nbformat": 4
    },
    "nbformat": 4,
    "nbformat_minor": 2
}
