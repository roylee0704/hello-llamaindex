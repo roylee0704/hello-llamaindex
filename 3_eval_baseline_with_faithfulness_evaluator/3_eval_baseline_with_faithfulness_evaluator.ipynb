{
 "cells": [
  {
   "cell_type": "markdown",
   "metadata": {},
   "source": [
    "# Faithfulness Evaluator\n",
    "\n",
    "This notebook uses the FaithfulnessEvaluator module to measure if the response from a query engine matches any source nodes.\n",
    "This is useful for measuring if the response was hallucinated.\n",
    "The data is extracted from the [New York City](https://en.wikipedia.org/wiki/New_York_City) wikipedia page."
   ]
  }
 ],
 "metadata": {
  "language_info": {
   "name": "python"
  }
 },
 "nbformat": 4,
 "nbformat_minor": 2
}
